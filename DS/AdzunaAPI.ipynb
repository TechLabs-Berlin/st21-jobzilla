{
  "nbformat": 4,
  "nbformat_minor": 0,
  "metadata": {
    "colab": {
      "name": "AdzunaAPI.ipynb",
      "provenance": [],
      "collapsed_sections": []
    },
    "kernelspec": {
      "name": "python3",
      "display_name": "Python 3"
    },
    "language_info": {
      "name": "python"
    }
  },
  "cells": [
    {
      "cell_type": "code",
      "metadata": {
        "id": "amqMcAJ_LD7q"
      },
      "source": [
        "import json, requests\n",
        "def job_search(title, skills, city):\n",
        "    skills_e = urllib.parse.quote(skills)\n",
        "    title_e = urllib.parse.quote(title)\n",
        "    url = 'https://api.adzuna.com/v1/api/jobs/de/search/10?app_id=b80e80f4&app_key=672a5604a37c08d4f1135673ccb80160&results_per_page=10&what_or={}&title_only={}&where={}&distance=500'.format(skills_e, title_e, city)\n",
        "    res = requests.get(url)\n",
        "    data = json.loads(res.content.decode(res.encoding))\n",
        "    return data\n",
        "skills = 'python, sql, data'\n",
        "title = 'Data Scientist'\n",
        "city = 'Berlin'\n",
        "x = job_search(title, skills, city)\n",
        "x"
      ],
      "execution_count": null,
      "outputs": []
    }
  ]
}